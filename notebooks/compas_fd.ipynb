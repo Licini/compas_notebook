{
 "cells": [
  {
   "cell_type": "markdown",
   "id": "bc8b5e0f-b59b-4c52-aed1-da52d1b7a402",
   "metadata": {},
   "source": [
    "# Constrained Form Finding with Force Density - Example 1"
   ]
  },
  {
   "cell_type": "code",
   "execution_count": 1,
   "id": "c1e98dcf-d92b-4aff-89a3-c8a62635a622",
   "metadata": {},
   "outputs": [],
   "source": [
    "from compas.colors import Color\n",
    "from compas.datastructures import Mesh\n",
    "from compas.geometry import Line, Point, Sphere, Vector\n",
    "from compas_fd.solvers import fd_constrained_numpy\n",
    "from compas_fd.constraints import Constraint\n",
    "from compas_notebook.viewer import Viewer"
   ]
  },
  {
   "cell_type": "markdown",
   "id": "5e5dbdae-92e1-42af-9463-e4ce53eef5af",
   "metadata": {},
   "source": [
    "## Base mesh"
   ]
  },
  {
   "cell_type": "code",
   "execution_count": 2,
   "id": "3a549d02-4134-438a-b0c9-a828d93a7b3c",
   "metadata": {},
   "outputs": [],
   "source": [
    "mesh = Mesh.from_meshgrid(dx=10, nx=10)"
   ]
  },
  {
   "cell_type": "markdown",
   "id": "eca45edc-320a-4518-96fa-77ed02b52a30",
   "metadata": {},
   "source": [
    "## FD Inputs"
   ]
  },
  {
   "cell_type": "code",
   "execution_count": 3,
   "id": "2234b5de-cd03-44d6-8807-9cc9252b74c2",
   "metadata": {},
   "outputs": [],
   "source": [
    "vertices = mesh.vertices_attributes(\"xyz\")\n",
    "fixed = list(mesh.vertices_where(vertex_degree=2))\n",
    "edges = list(mesh.edges())\n",
    "loads = [[0, 0, 0] for _ in range(len(vertices))]\n",
    "\n",
    "# increase the force densities on the boundary edges\n",
    "\n",
    "forcedensities = []\n",
    "for edge in edges:\n",
    "    q = 10.0 if mesh.is_edge_on_boundary(edge) else 1.0\n",
    "    forcedensities.append(q)\n",
    "\n",
    "# constraints\n",
    "\n",
    "vertex_guid = {}\n",
    "guid_constraint = {}\n",
    "\n",
    "line = Line([0, 2, 0], [2, 10, 0])\n",
    "constraint = Constraint(line)\n",
    "guid = str(constraint.guid)\n",
    "guid_constraint[guid] = constraint\n",
    "\n",
    "vertex = list(mesh.vertices_where(x=0, y=10))[0]\n",
    "vertex_guid[vertex] = guid"
   ]
  },
  {
   "cell_type": "markdown",
   "id": "71591832-e150-41ca-a4fe-a82f271f8a07",
   "metadata": {},
   "source": [
    "## Solve"
   ]
  },
  {
   "cell_type": "code",
   "execution_count": 4,
   "id": "7549f299-21c7-400f-a787-2c62b87c586d",
   "metadata": {},
   "outputs": [],
   "source": [
    "constraints = [None] * len(vertices)\n",
    "for vertex in vertex_guid:\n",
    "    constraints[vertex] = guid_constraint[vertex_guid[vertex]]\n",
    "\n",
    "result = fd_constrained_numpy(\n",
    "    vertices=vertices,\n",
    "    fixed=fixed,\n",
    "    edges=edges,\n",
    "    forcedensities=forcedensities,\n",
    "    loads=loads,\n",
    "    constraints=constraints,\n",
    ")"
   ]
  },
  {
   "cell_type": "markdown",
   "id": "f9c05f39-bb6c-4266-8a27-41088aa4d077",
   "metadata": {},
   "source": [
    "## Update"
   ]
  },
  {
   "cell_type": "code",
   "execution_count": 5,
   "id": "d481ef13-5b8f-44ba-aff2-e70fb550688b",
   "metadata": {},
   "outputs": [],
   "source": [
    "for vertex, attr in mesh.vertices(data=True):\n",
    "    attr[\"x\"] = result.vertices[vertex, 0]\n",
    "    attr[\"y\"] = result.vertices[vertex, 1]\n",
    "    attr[\"z\"] = result.vertices[vertex, 2]"
   ]
  },
  {
   "cell_type": "markdown",
   "id": "abd60165-342d-4582-9874-49fea8d05c2a",
   "metadata": {},
   "source": [
    "## Visualize"
   ]
  },
  {
   "cell_type": "code",
   "execution_count": 6,
   "id": "28a3c58a-973a-44ce-b67b-a6923c5d3290",
   "metadata": {},
   "outputs": [
    {
     "name": "stdout",
     "output_type": "stream",
     "text": [
      "PyThreeJS SceneObjects registered.\n"
     ]
    },
    {
     "data": {
      "application/vnd.jupyter.widget-view+json": {
       "model_id": "4eb6bdea4979423ea8c131b84d87b4eb",
       "version_major": 2,
       "version_minor": 0
      },
      "text/plain": [
       "VBox(children=(HBox(children=(Button(icon='square', layout=Layout(height='32px', width='32px'), style=ButtonSt…"
      ]
     },
     "metadata": {},
     "output_type": "display_data"
    }
   ],
   "source": [
    "viewer = Viewer()\n",
    "viewer.scene.clear()\n",
    "viewer.scene.add(mesh, color=Color.grey())\n",
    "viewer.show()"
   ]
  }
 ],
 "metadata": {
  "kernelspec": {
   "display_name": "Python 3",
   "language": "python",
   "name": "python3"
  },
  "language_info": {
   "codemirror_mode": {
    "name": "ipython",
    "version": 3
   },
   "file_extension": ".py",
   "mimetype": "text/x-python",
   "name": "python",
   "nbconvert_exporter": "python",
   "pygments_lexer": "ipython3",
   "version": "3.9.10"
  }
 },
 "nbformat": 4,
 "nbformat_minor": 5
}
