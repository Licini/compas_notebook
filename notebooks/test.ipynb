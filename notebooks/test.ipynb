{
 "cells": [
  {
   "cell_type": "code",
   "execution_count": 1,
   "metadata": {
    "collapsed": true,
    "jupyter": {
     "outputs_hidden": true
    }
   },
   "outputs": [
    {
     "name": "stdout",
     "output_type": "stream",
     "text": [
      "Requirement already satisfied: pythreejs in /Users/vanmelet/opt/miniconda3/envs/compas-dev/lib/python3.9/site-packages (2.4.2)\n",
      "Requirement already satisfied: numpy in /Users/vanmelet/opt/miniconda3/envs/compas-dev/lib/python3.9/site-packages (from pythreejs) (1.22.1)\n",
      "Requirement already satisfied: ipydatawidgets>=1.1.1 in /Users/vanmelet/opt/miniconda3/envs/compas-dev/lib/python3.9/site-packages (from pythreejs) (4.3.5)\n",
      "Requirement already satisfied: ipywidgets>=7.2.1 in /Users/vanmelet/opt/miniconda3/envs/compas-dev/lib/python3.9/site-packages (from pythreejs) (8.1.1)\n",
      "Requirement already satisfied: traitlets in /Users/vanmelet/opt/miniconda3/envs/compas-dev/lib/python3.9/site-packages (from pythreejs) (5.14.1)\n",
      "Requirement already satisfied: traittypes>=0.2.0 in /Users/vanmelet/opt/miniconda3/envs/compas-dev/lib/python3.9/site-packages (from ipydatawidgets>=1.1.1->pythreejs) (0.2.1)\n",
      "Requirement already satisfied: comm>=0.1.3 in /Users/vanmelet/opt/miniconda3/envs/compas-dev/lib/python3.9/site-packages (from ipywidgets>=7.2.1->pythreejs) (0.2.1)\n",
      "Requirement already satisfied: jupyterlab-widgets~=3.0.9 in /Users/vanmelet/opt/miniconda3/envs/compas-dev/lib/python3.9/site-packages (from ipywidgets>=7.2.1->pythreejs) (3.0.9)\n",
      "Requirement already satisfied: ipython>=6.1.0 in /Users/vanmelet/opt/miniconda3/envs/compas-dev/lib/python3.9/site-packages (from ipywidgets>=7.2.1->pythreejs) (8.0.1)\n",
      "Requirement already satisfied: widgetsnbextension~=4.0.9 in /Users/vanmelet/opt/miniconda3/envs/compas-dev/lib/python3.9/site-packages (from ipywidgets>=7.2.1->pythreejs) (4.0.9)\n",
      "Requirement already satisfied: black in /Users/vanmelet/opt/miniconda3/envs/compas-dev/lib/python3.9/site-packages (from ipython>=6.1.0->ipywidgets>=7.2.1->pythreejs) (22.12.0)\n",
      "Requirement already satisfied: decorator in /Users/vanmelet/opt/miniconda3/envs/compas-dev/lib/python3.9/site-packages (from ipython>=6.1.0->ipywidgets>=7.2.1->pythreejs) (5.1.1)\n",
      "Requirement already satisfied: setuptools>=18.5 in /Users/vanmelet/opt/miniconda3/envs/compas-dev/lib/python3.9/site-packages (from ipython>=6.1.0->ipywidgets>=7.2.1->pythreejs) (60.7.0)\n",
      "Requirement already satisfied: prompt-toolkit!=3.0.0,!=3.0.1,<3.1.0,>=2.0.0 in /Users/vanmelet/opt/miniconda3/envs/compas-dev/lib/python3.9/site-packages (from ipython>=6.1.0->ipywidgets>=7.2.1->pythreejs) (3.0.43)\n",
      "Requirement already satisfied: pexpect>4.3 in /Users/vanmelet/opt/miniconda3/envs/compas-dev/lib/python3.9/site-packages (from ipython>=6.1.0->ipywidgets>=7.2.1->pythreejs) (4.8.0)\n",
      "Requirement already satisfied: appnope in /Users/vanmelet/opt/miniconda3/envs/compas-dev/lib/python3.9/site-packages (from ipython>=6.1.0->ipywidgets>=7.2.1->pythreejs) (0.1.2)\n",
      "Requirement already satisfied: pygments in /Users/vanmelet/opt/miniconda3/envs/compas-dev/lib/python3.9/site-packages (from ipython>=6.1.0->ipywidgets>=7.2.1->pythreejs) (2.15.1)\n",
      "Requirement already satisfied: backcall in /Users/vanmelet/opt/miniconda3/envs/compas-dev/lib/python3.9/site-packages (from ipython>=6.1.0->ipywidgets>=7.2.1->pythreejs) (0.2.0)\n",
      "Requirement already satisfied: stack-data in /Users/vanmelet/opt/miniconda3/envs/compas-dev/lib/python3.9/site-packages (from ipython>=6.1.0->ipywidgets>=7.2.1->pythreejs) (0.1.4)\n",
      "Requirement already satisfied: matplotlib-inline in /Users/vanmelet/opt/miniconda3/envs/compas-dev/lib/python3.9/site-packages (from ipython>=6.1.0->ipywidgets>=7.2.1->pythreejs) (0.1.3)\n",
      "Requirement already satisfied: pickleshare in /Users/vanmelet/opt/miniconda3/envs/compas-dev/lib/python3.9/site-packages (from ipython>=6.1.0->ipywidgets>=7.2.1->pythreejs) (0.7.5)\n",
      "Requirement already satisfied: jedi>=0.16 in /Users/vanmelet/opt/miniconda3/envs/compas-dev/lib/python3.9/site-packages (from ipython>=6.1.0->ipywidgets>=7.2.1->pythreejs) (0.18.1)\n",
      "Requirement already satisfied: parso<0.9.0,>=0.8.0 in /Users/vanmelet/opt/miniconda3/envs/compas-dev/lib/python3.9/site-packages (from jedi>=0.16->ipython>=6.1.0->ipywidgets>=7.2.1->pythreejs) (0.8.3)\n",
      "Requirement already satisfied: ptyprocess>=0.5 in /Users/vanmelet/opt/miniconda3/envs/compas-dev/lib/python3.9/site-packages (from pexpect>4.3->ipython>=6.1.0->ipywidgets>=7.2.1->pythreejs) (0.7.0)\n",
      "Requirement already satisfied: wcwidth in /Users/vanmelet/opt/miniconda3/envs/compas-dev/lib/python3.9/site-packages (from prompt-toolkit!=3.0.0,!=3.0.1,<3.1.0,>=2.0.0->ipython>=6.1.0->ipywidgets>=7.2.1->pythreejs) (0.2.5)\n",
      "Requirement already satisfied: platformdirs>=2 in /Users/vanmelet/opt/miniconda3/envs/compas-dev/lib/python3.9/site-packages (from black->ipython>=6.1.0->ipywidgets>=7.2.1->pythreejs) (4.1.0)\n",
      "Requirement already satisfied: pathspec>=0.9.0 in /Users/vanmelet/opt/miniconda3/envs/compas-dev/lib/python3.9/site-packages (from black->ipython>=6.1.0->ipywidgets>=7.2.1->pythreejs) (0.9.0)\n",
      "Requirement already satisfied: click>=8.0.0 in /Users/vanmelet/opt/miniconda3/envs/compas-dev/lib/python3.9/site-packages (from black->ipython>=6.1.0->ipywidgets>=7.2.1->pythreejs) (8.0.3)\n",
      "Requirement already satisfied: tomli>=1.1.0 in /Users/vanmelet/opt/miniconda3/envs/compas-dev/lib/python3.9/site-packages (from black->ipython>=6.1.0->ipywidgets>=7.2.1->pythreejs) (2.0.0)\n",
      "Requirement already satisfied: mypy-extensions>=0.4.3 in /Users/vanmelet/opt/miniconda3/envs/compas-dev/lib/python3.9/site-packages (from black->ipython>=6.1.0->ipywidgets>=7.2.1->pythreejs) (0.4.3)\n",
      "Requirement already satisfied: typing-extensions>=3.10.0.0 in /Users/vanmelet/opt/miniconda3/envs/compas-dev/lib/python3.9/site-packages (from black->ipython>=6.1.0->ipywidgets>=7.2.1->pythreejs) (4.9.0)\n",
      "Requirement already satisfied: asttokens in /Users/vanmelet/opt/miniconda3/envs/compas-dev/lib/python3.9/site-packages (from stack-data->ipython>=6.1.0->ipywidgets>=7.2.1->pythreejs) (2.0.5)\n",
      "Requirement already satisfied: pure-eval in /Users/vanmelet/opt/miniconda3/envs/compas-dev/lib/python3.9/site-packages (from stack-data->ipython>=6.1.0->ipywidgets>=7.2.1->pythreejs) (0.2.2)\n",
      "Requirement already satisfied: executing in /Users/vanmelet/opt/miniconda3/envs/compas-dev/lib/python3.9/site-packages (from stack-data->ipython>=6.1.0->ipywidgets>=7.2.1->pythreejs) (0.8.2)\n",
      "Requirement already satisfied: six in /Users/vanmelet/opt/miniconda3/envs/compas-dev/lib/python3.9/site-packages (from asttokens->stack-data->ipython>=6.1.0->ipywidgets>=7.2.1->pythreejs) (1.16.0)\n",
      "Note: you may need to restart the kernel to use updated packages.\n"
     ]
    }
   ],
   "source": [
    "%pip install pythreejs"
   ]
  },
  {
   "cell_type": "code",
   "execution_count": 2,
   "metadata": {},
   "outputs": [],
   "source": [
    "import compas, compas_fd, compas_pythreejs"
   ]
  },
  {
   "cell_type": "code",
   "execution_count": 3,
   "metadata": {},
   "outputs": [],
   "source": [
    "from compas.scene import Scene\n",
    "from compas.datastructures import Mesh\n",
    "from compas.geometry import Box\n",
    "from compas.colors import Color"
   ]
  },
  {
   "cell_type": "code",
   "execution_count": 4,
   "metadata": {},
   "outputs": [],
   "source": [
    "box = Box(1, 2, 3)\n",
    "mesh = Mesh.from_meshgrid(10, 10)"
   ]
  },
  {
   "cell_type": "code",
   "execution_count": 5,
   "metadata": {},
   "outputs": [
    {
     "name": "stdout",
     "output_type": "stream",
     "text": [
      "PyThreeJS SceneObjects registered.\n"
     ]
    },
    {
     "data": {
      "application/vnd.jupyter.widget-view+json": {
       "model_id": "a060046e6e8c496fb0a96e02cb7f91af",
       "version_major": 2,
       "version_minor": 0
      },
      "text/plain": [
       "Renderer(camera=PerspectiveCamera(aspect=1.3333333333333333, position=(0.0, 0.0, 10.0), projectionMatrix=(1.0,…"
      ]
     },
     "metadata": {},
     "output_type": "display_data"
    },
    {
     "data": {
      "text/plain": [
       "[Mesh(geometry=BoxGeometry(depth=2.0, height=3.0), material=MeshBasicMaterial(alphaMap=None, aoMap=None, color='#0092d2', envMap=None, lightMap=None, map=None, specularMap=None), position=(0.0, 0.0, 0.0), quaternion=(0.0, 0.0, 0.0, 1.0), rotation=(0.0, 0.0, 0.0, 'XYZ'), scale=(1.0, 1.0, 1.0), up=(0.0, 1.0, 0.0)),\n",
       " LineSegments(geometry=EdgesGeometry(geometry=BoxGeometry(depth=2.0, height=3.0)), material=LineBasicMaterial(color='#004969'), position=(0.0, 0.0, 0.0), quaternion=(0.0, 0.0, 0.0, 1.0), rotation=(0.0, 0.0, 0.0, 'XYZ'), scale=(1.0, 1.0, 1.0), up=(0.0, 1.0, 0.0))]"
      ]
     },
     "execution_count": 5,
     "metadata": {},
     "output_type": "execute_result"
    }
   ],
   "source": [
    "scene = Scene(context='Notebook')\n",
    "scene.clear()\n",
    "scene.add(box, color=Color.from_hex('#0092d2'))\n",
    "scene.draw()"
   ]
  }
 ],
 "metadata": {
  "kernelspec": {
   "display_name": "Python 3 (ipykernel)",
   "language": "python",
   "name": "python3"
  },
  "language_info": {
   "codemirror_mode": {
    "name": "ipython",
    "version": 3
   },
   "file_extension": ".py",
   "mimetype": "text/x-python",
   "name": "python",
   "nbconvert_exporter": "python",
   "pygments_lexer": "ipython3",
   "version": "3.9.10"
  }
 },
 "nbformat": 4,
 "nbformat_minor": 4
}
